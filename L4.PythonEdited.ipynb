{
 "cells": [
  {
   "cell_type": "markdown",
   "metadata": {},
   "source": [
    "# Software Engineering for Molecular Data Scientists\n",
    "\n",
    "## *Introduction to Python & Pandas*"
   ]
  },
  {
   "cell_type": "markdown",
   "metadata": {},
   "source": [
    "## Today's Objectives\n",
    "\n",
    "#### 1. Loading data with ``pandas``\n",
    "\n",
    "#### 2. Cleaning and Manipulating data with ``pandas``"
   ]
  },
  {
   "cell_type": "markdown",
   "metadata": {},
   "source": [
    "## 1. Loading data with ``pandas``\n",
    "\n",
    "With this simple Python computation experience under our belt, we can now move to doing some more interesting analysis."
   ]
  },
  {
   "cell_type": "markdown",
   "metadata": {},
   "source": [
    "### Python's Data Science Ecosystem\n",
    "\n",
    "In addition to Python's built-in modules like the ``math`` module we explored above, there are also many often-used third-party modules that are core tools for doing data science with Python.\n",
    "Some of the most important ones are:\n",
    "\n",
    "#### [``numpy``](http://numpy.org/): Numerical Python\n",
    "\n",
    "Numpy is short for \"Numerical Python\", and contains tools for efficient manipulation of arrays of data.\n",
    "If you have used other computational tools like IDL or MatLab, Numpy should feel very familiar.\n",
    "\n",
    "#### [``scipy``](http://scipy.org/): Scientific Python\n",
    "\n",
    "Scipy is short for \"Scientific Python\", and contains a wide range of functionality for accomplishing common scientific tasks, such as optimization/minimization, numerical integration, interpolation, and much more.\n",
    "We will not look closely at Scipy today, but we will use its functionality later in the course.\n",
    "\n",
    "#### [``pandas``](http://pandas.pydata.org/): Labeled Data Manipulation in Python\n",
    "\n",
    "Pandas is short for \"Panel Data\", and contains tools for doing more advanced manipulation of labeled data in Python, in particular with a columnar data structure called a *Data Frame*.\n",
    "If you've used the [R](http://rstats.org) statistical language (and in particular the so-called \"Hadley Stack\"), much of the functionality in Pandas should feel very familiar.\n",
    "\n",
    "#### [``matplotlib``](http://matplotlib.org): Visualization in Python\n",
    "\n",
    "Matplotlib started out as a Matlab plotting clone in Python, and has grown from there in the 15 years since its creation. It is the most popular data visualization tool currently in the Python data world (though other recent packages are starting to encroach on its monopoly)."
   ]
  },
  {
   "cell_type": "markdown",
   "metadata": {},
   "source": [
    "### Installing Pandas & friends\n",
    "\n",
    "Because the above packages are not included in Python itself, you need to install them separately. While it is possible to install these from source (compiling the C and/or Fortran code that does the heavy lifting under the hood) it is much easier to use a package manager like ``conda``. All it takes is to run\n",
    "\n",
    "```\n",
    "$ conda install numpy scipy pandas matplotlib\n",
    "```\n",
    "\n",
    "and (so long as your conda setup is working) the packages will be downloaded and installed on your system."
   ]
  },
  {
   "cell_type": "markdown",
   "metadata": {},
   "source": [
    "### Loading Data with Pandas"
   ]
  },
  {
   "cell_type": "code",
   "execution_count": 1,
   "metadata": {},
   "outputs": [],
   "source": [
    "import numpy"
   ]
  },
  {
   "cell_type": "code",
   "execution_count": 2,
   "metadata": {},
   "outputs": [],
   "source": [
    "import pandas as pd"
   ]
  },
  {
   "cell_type": "code",
   "execution_count": 3,
   "metadata": {},
   "outputs": [],
   "source": [
    "df = pd.DataFrame()"
   ]
  },
  {
   "cell_type": "code",
   "execution_count": 4,
   "metadata": {},
   "outputs": [],
   "source": [
    "data = pd.read_csv('HCEPDB/HCEPDB_moldata.zip')"
   ]
  },
  {
   "cell_type": "code",
   "execution_count": 5,
   "metadata": {},
   "outputs": [
    {
     "data": {
      "text/html": [
       "<div>\n",
       "<style scoped>\n",
       "    .dataframe tbody tr th:only-of-type {\n",
       "        vertical-align: middle;\n",
       "    }\n",
       "\n",
       "    .dataframe tbody tr th {\n",
       "        vertical-align: top;\n",
       "    }\n",
       "\n",
       "    .dataframe thead th {\n",
       "        text-align: right;\n",
       "    }\n",
       "</style>\n",
       "<table border=\"1\" class=\"dataframe\">\n",
       "  <thead>\n",
       "    <tr style=\"text-align: right;\">\n",
       "      <th></th>\n",
       "      <th>id</th>\n",
       "      <th>SMILES_str</th>\n",
       "      <th>stoich_str</th>\n",
       "      <th>mass</th>\n",
       "      <th>pce</th>\n",
       "      <th>voc</th>\n",
       "      <th>jsc</th>\n",
       "      <th>e_homo_alpha</th>\n",
       "      <th>e_gap_alpha</th>\n",
       "      <th>e_lumo_alpha</th>\n",
       "      <th>tmp_smiles_str</th>\n",
       "    </tr>\n",
       "  </thead>\n",
       "  <tbody>\n",
       "    <tr>\n",
       "      <th>0</th>\n",
       "      <td>655365</td>\n",
       "      <td>C1C=CC=C1c1cc2[se]c3c4occc4c4nsnc4c3c2cn1</td>\n",
       "      <td>C18H9N3OSSe</td>\n",
       "      <td>394.3151</td>\n",
       "      <td>5.161953</td>\n",
       "      <td>0.867601</td>\n",
       "      <td>91.567575</td>\n",
       "      <td>-5.467601</td>\n",
       "      <td>2.022944</td>\n",
       "      <td>-3.444656</td>\n",
       "      <td>C1=CC=C(C1)c1cc2[se]c3c4occc4c4nsnc4c3c2cn1</td>\n",
       "    </tr>\n",
       "    <tr>\n",
       "      <th>1</th>\n",
       "      <td>1245190</td>\n",
       "      <td>C1C=CC=C1c1cc2[se]c3c(ncc4ccccc34)c2c2=C[SiH2]...</td>\n",
       "      <td>C22H15NSeSi</td>\n",
       "      <td>400.4135</td>\n",
       "      <td>5.261398</td>\n",
       "      <td>0.504824</td>\n",
       "      <td>160.401549</td>\n",
       "      <td>-5.104824</td>\n",
       "      <td>1.630750</td>\n",
       "      <td>-3.474074</td>\n",
       "      <td>C1=CC=C(C1)c1cc2[se]c3c(ncc4ccccc34)c2c2=C[SiH...</td>\n",
       "    </tr>\n",
       "    <tr>\n",
       "      <th>2</th>\n",
       "      <td>21847</td>\n",
       "      <td>C1C=c2ccc3c4c[nH]cc4c4c5[SiH2]C(=Cc5oc4c3c2=C1...</td>\n",
       "      <td>C24H17NOSi</td>\n",
       "      <td>363.4903</td>\n",
       "      <td>0.000000</td>\n",
       "      <td>0.000000</td>\n",
       "      <td>197.474780</td>\n",
       "      <td>-4.539526</td>\n",
       "      <td>1.462158</td>\n",
       "      <td>-3.077368</td>\n",
       "      <td>C1=CC=C(C1)C1=Cc2oc3c(c2[SiH2]1)c1c[nH]cc1c1cc...</td>\n",
       "    </tr>\n",
       "    <tr>\n",
       "      <th>3</th>\n",
       "      <td>65553</td>\n",
       "      <td>[SiH2]1C=CC2=C1C=C([SiH2]2)C1=Cc2[se]ccc2[SiH2]1</td>\n",
       "      <td>C12H12SeSi3</td>\n",
       "      <td>319.4448</td>\n",
       "      <td>6.138294</td>\n",
       "      <td>0.630274</td>\n",
       "      <td>149.887545</td>\n",
       "      <td>-5.230274</td>\n",
       "      <td>1.682250</td>\n",
       "      <td>-3.548025</td>\n",
       "      <td>C1=CC2=C([SiH2]1)C=C([SiH2]2)C1=Cc2[se]ccc2[Si...</td>\n",
       "    </tr>\n",
       "    <tr>\n",
       "      <th>4</th>\n",
       "      <td>720918</td>\n",
       "      <td>C1C=c2c3ccsc3c3[se]c4cc(oc4c3c2=C1)C1=CC=CC1</td>\n",
       "      <td>C20H12OSSe</td>\n",
       "      <td>379.3398</td>\n",
       "      <td>1.991366</td>\n",
       "      <td>0.242119</td>\n",
       "      <td>126.581347</td>\n",
       "      <td>-4.842119</td>\n",
       "      <td>1.809439</td>\n",
       "      <td>-3.032680</td>\n",
       "      <td>C1=CC=C(C1)c1cc2[se]c3c4sccc4c4=CCC=c4c3c2o1</td>\n",
       "    </tr>\n",
       "  </tbody>\n",
       "</table>\n",
       "</div>"
      ],
      "text/plain": [
       "        id                                         SMILES_str   stoich_str  \\\n",
       "0   655365          C1C=CC=C1c1cc2[se]c3c4occc4c4nsnc4c3c2cn1  C18H9N3OSSe   \n",
       "1  1245190  C1C=CC=C1c1cc2[se]c3c(ncc4ccccc34)c2c2=C[SiH2]...  C22H15NSeSi   \n",
       "2    21847  C1C=c2ccc3c4c[nH]cc4c4c5[SiH2]C(=Cc5oc4c3c2=C1...   C24H17NOSi   \n",
       "3    65553   [SiH2]1C=CC2=C1C=C([SiH2]2)C1=Cc2[se]ccc2[SiH2]1  C12H12SeSi3   \n",
       "4   720918       C1C=c2c3ccsc3c3[se]c4cc(oc4c3c2=C1)C1=CC=CC1   C20H12OSSe   \n",
       "\n",
       "       mass       pce       voc         jsc  e_homo_alpha  e_gap_alpha  \\\n",
       "0  394.3151  5.161953  0.867601   91.567575     -5.467601     2.022944   \n",
       "1  400.4135  5.261398  0.504824  160.401549     -5.104824     1.630750   \n",
       "2  363.4903  0.000000  0.000000  197.474780     -4.539526     1.462158   \n",
       "3  319.4448  6.138294  0.630274  149.887545     -5.230274     1.682250   \n",
       "4  379.3398  1.991366  0.242119  126.581347     -4.842119     1.809439   \n",
       "\n",
       "   e_lumo_alpha                                     tmp_smiles_str  \n",
       "0     -3.444656        C1=CC=C(C1)c1cc2[se]c3c4occc4c4nsnc4c3c2cn1  \n",
       "1     -3.474074  C1=CC=C(C1)c1cc2[se]c3c(ncc4ccccc34)c2c2=C[SiH...  \n",
       "2     -3.077368  C1=CC=C(C1)C1=Cc2oc3c(c2[SiH2]1)c1c[nH]cc1c1cc...  \n",
       "3     -3.548025  C1=CC2=C([SiH2]1)C=C([SiH2]2)C1=Cc2[se]ccc2[Si...  \n",
       "4     -3.032680       C1=CC=C(C1)c1cc2[se]c3c4sccc4c4=CCC=c4c3c2o1  "
      ]
     },
     "execution_count": 5,
     "metadata": {},
     "output_type": "execute_result"
    }
   ],
   "source": [
    "data.head()"
   ]
  },
  {
   "cell_type": "markdown",
   "metadata": {},
   "source": [
    "Because we'll use it so much, we often import under a shortened name using the ``import ... as ...`` pattern:"
   ]
  },
  {
   "cell_type": "code",
   "execution_count": 6,
   "metadata": {},
   "outputs": [
    {
     "data": {
      "text/html": [
       "<div>\n",
       "<style scoped>\n",
       "    .dataframe tbody tr th:only-of-type {\n",
       "        vertical-align: middle;\n",
       "    }\n",
       "\n",
       "    .dataframe tbody tr th {\n",
       "        vertical-align: top;\n",
       "    }\n",
       "\n",
       "    .dataframe thead th {\n",
       "        text-align: right;\n",
       "    }\n",
       "</style>\n",
       "<table border=\"1\" class=\"dataframe\">\n",
       "  <thead>\n",
       "    <tr style=\"text-align: right;\">\n",
       "      <th></th>\n",
       "      <th>id</th>\n",
       "      <th>SMILES_str</th>\n",
       "      <th>stoich_str</th>\n",
       "      <th>mass</th>\n",
       "      <th>pce</th>\n",
       "      <th>voc</th>\n",
       "      <th>jsc</th>\n",
       "      <th>e_homo_alpha</th>\n",
       "      <th>e_gap_alpha</th>\n",
       "      <th>e_lumo_alpha</th>\n",
       "      <th>tmp_smiles_str</th>\n",
       "    </tr>\n",
       "  </thead>\n",
       "  <tbody>\n",
       "    <tr>\n",
       "      <th>2322844</th>\n",
       "      <td>2543603</td>\n",
       "      <td>[SiH2]1ccc2csc(c12)-c1sc(c2[SiH2]ccc12)-c1cnc(...</td>\n",
       "      <td>C22H14N4S3Si2</td>\n",
       "      <td>486.7506</td>\n",
       "      <td>0.000000</td>\n",
       "      <td>0.000000</td>\n",
       "      <td>0.000000</td>\n",
       "      <td>-5.632512</td>\n",
       "      <td>1.454082</td>\n",
       "      <td>-4.178430</td>\n",
       "      <td>c1sc(c2[SiH2]ccc12)-c1sc(c2[SiH2]ccc12)-c1cnc(...</td>\n",
       "    </tr>\n",
       "    <tr>\n",
       "      <th>2322845</th>\n",
       "      <td>2304057</td>\n",
       "      <td>[SiH2]1ccc2csc(c12)-c1sc(c2[SiH2]ccc12)-c1ccc(...</td>\n",
       "      <td>C22H14N4S3Si2</td>\n",
       "      <td>486.7506</td>\n",
       "      <td>9.335485</td>\n",
       "      <td>1.120744</td>\n",
       "      <td>128.197094</td>\n",
       "      <td>-5.720744</td>\n",
       "      <td>1.798600</td>\n",
       "      <td>-3.922144</td>\n",
       "      <td>c1sc(c2[SiH2]ccc12)-c1sc(c2[SiH2]ccc12)-c1ccc(...</td>\n",
       "    </tr>\n",
       "    <tr>\n",
       "      <th>2322846</th>\n",
       "      <td>2007035</td>\n",
       "      <td>[SiH2]1ccc2csc(c12)-c1sc(c2[SiH2]ccc12)-c1ccc(...</td>\n",
       "      <td>C26H18S3Si2</td>\n",
       "      <td>482.7982</td>\n",
       "      <td>2.498209</td>\n",
       "      <td>0.834995</td>\n",
       "      <td>46.046052</td>\n",
       "      <td>-5.434995</td>\n",
       "      <td>2.433160</td>\n",
       "      <td>-3.001835</td>\n",
       "      <td>c1sc(c2[SiH2]ccc12)-c1sc(c2[SiH2]ccc12)-c1ccc(...</td>\n",
       "    </tr>\n",
       "    <tr>\n",
       "      <th>2322847</th>\n",
       "      <td>1961981</td>\n",
       "      <td>C1ccc2c1c(sc2-c1scc2cc[SiH2]c12)-c1ccc(cc1)-c1...</td>\n",
       "      <td>C25H16S3SeSi</td>\n",
       "      <td>519.6454</td>\n",
       "      <td>2.679067</td>\n",
       "      <td>0.659243</td>\n",
       "      <td>62.544032</td>\n",
       "      <td>-5.259243</td>\n",
       "      <td>2.258468</td>\n",
       "      <td>-3.000775</td>\n",
       "      <td>c1sc(c2[SiH2]ccc12)-c1sc(c2Cccc12)-c1ccc(cc1)-...</td>\n",
       "    </tr>\n",
       "    <tr>\n",
       "      <th>2322848</th>\n",
       "      <td>2754558</td>\n",
       "      <td>[SiH2]1ccc2csc(c12)-c1sc(-c2sc(-c3scc4ccsc34)c...</td>\n",
       "      <td>C24H13NOS5Si</td>\n",
       "      <td>519.7887</td>\n",
       "      <td>1.272400</td>\n",
       "      <td>0.102802</td>\n",
       "      <td>190.489616</td>\n",
       "      <td>-4.702802</td>\n",
       "      <td>1.490950</td>\n",
       "      <td>-3.211851</td>\n",
       "      <td>c1sc(c2[SiH2]ccc12)-c1sc(-c2sc(-c3scc4ccsc34)c...</td>\n",
       "    </tr>\n",
       "  </tbody>\n",
       "</table>\n",
       "</div>"
      ],
      "text/plain": [
       "              id                                         SMILES_str  \\\n",
       "2322844  2543603  [SiH2]1ccc2csc(c12)-c1sc(c2[SiH2]ccc12)-c1cnc(...   \n",
       "2322845  2304057  [SiH2]1ccc2csc(c12)-c1sc(c2[SiH2]ccc12)-c1ccc(...   \n",
       "2322846  2007035  [SiH2]1ccc2csc(c12)-c1sc(c2[SiH2]ccc12)-c1ccc(...   \n",
       "2322847  1961981  C1ccc2c1c(sc2-c1scc2cc[SiH2]c12)-c1ccc(cc1)-c1...   \n",
       "2322848  2754558  [SiH2]1ccc2csc(c12)-c1sc(-c2sc(-c3scc4ccsc34)c...   \n",
       "\n",
       "            stoich_str      mass       pce       voc         jsc  \\\n",
       "2322844  C22H14N4S3Si2  486.7506  0.000000  0.000000    0.000000   \n",
       "2322845  C22H14N4S3Si2  486.7506  9.335485  1.120744  128.197094   \n",
       "2322846    C26H18S3Si2  482.7982  2.498209  0.834995   46.046052   \n",
       "2322847   C25H16S3SeSi  519.6454  2.679067  0.659243   62.544032   \n",
       "2322848   C24H13NOS5Si  519.7887  1.272400  0.102802  190.489616   \n",
       "\n",
       "         e_homo_alpha  e_gap_alpha  e_lumo_alpha  \\\n",
       "2322844     -5.632512     1.454082     -4.178430   \n",
       "2322845     -5.720744     1.798600     -3.922144   \n",
       "2322846     -5.434995     2.433160     -3.001835   \n",
       "2322847     -5.259243     2.258468     -3.000775   \n",
       "2322848     -4.702802     1.490950     -3.211851   \n",
       "\n",
       "                                            tmp_smiles_str  \n",
       "2322844  c1sc(c2[SiH2]ccc12)-c1sc(c2[SiH2]ccc12)-c1cnc(...  \n",
       "2322845  c1sc(c2[SiH2]ccc12)-c1sc(c2[SiH2]ccc12)-c1ccc(...  \n",
       "2322846  c1sc(c2[SiH2]ccc12)-c1sc(c2[SiH2]ccc12)-c1ccc(...  \n",
       "2322847  c1sc(c2[SiH2]ccc12)-c1sc(c2Cccc12)-c1ccc(cc1)-...  \n",
       "2322848  c1sc(c2[SiH2]ccc12)-c1sc(-c2sc(-c3scc4ccsc34)c...  "
      ]
     },
     "execution_count": 6,
     "metadata": {},
     "output_type": "execute_result"
    }
   ],
   "source": [
    "data.tail()"
   ]
  },
  {
   "cell_type": "code",
   "execution_count": null,
   "metadata": {},
   "outputs": [],
   "source": []
  },
  {
   "cell_type": "code",
   "execution_count": null,
   "metadata": {},
   "outputs": [],
   "source": []
  },
  {
   "cell_type": "markdown",
   "metadata": {},
   "source": [
    "Now we can use the ``read_csv`` command to read the comma-separated-value data:"
   ]
  },
  {
   "cell_type": "code",
   "execution_count": 7,
   "metadata": {},
   "outputs": [
    {
     "data": {
      "text/plain": [
       "'foo'"
      ]
     },
     "execution_count": 7,
     "metadata": {},
     "output_type": "execute_result"
    }
   ],
   "source": [
    "\"foo\"\n",
    "'foo'"
   ]
  },
  {
   "cell_type": "markdown",
   "metadata": {},
   "source": [
    "*Note: strings in Python can be defined either with double quotes or single quotes*"
   ]
  },
  {
   "cell_type": "markdown",
   "metadata": {},
   "source": [
    "### Viewing Pandas Dataframes"
   ]
  },
  {
   "cell_type": "markdown",
   "metadata": {},
   "source": [
    "The ``head()`` and ``tail()`` methods show us the first and last rows of the data"
   ]
  },
  {
   "cell_type": "code",
   "execution_count": null,
   "metadata": {},
   "outputs": [],
   "source": []
  },
  {
   "cell_type": "code",
   "execution_count": null,
   "metadata": {},
   "outputs": [],
   "source": []
  },
  {
   "cell_type": "markdown",
   "metadata": {},
   "source": [
    "The ``shape`` attribute shows us the number of elements:"
   ]
  },
  {
   "cell_type": "code",
   "execution_count": 8,
   "metadata": {},
   "outputs": [
    {
     "data": {
      "text/plain": [
       "(2322849, 11)"
      ]
     },
     "execution_count": 8,
     "metadata": {},
     "output_type": "execute_result"
    }
   ],
   "source": [
    "data.shape"
   ]
  },
  {
   "cell_type": "markdown",
   "metadata": {},
   "source": [
    "The ``columns`` attribute gives us the column names"
   ]
  },
  {
   "cell_type": "code",
   "execution_count": 9,
   "metadata": {},
   "outputs": [
    {
     "data": {
      "text/plain": [
       "Index(['id', 'SMILES_str', 'stoich_str', 'mass', 'pce', 'voc', 'jsc',\n",
       "       'e_homo_alpha', 'e_gap_alpha', 'e_lumo_alpha', 'tmp_smiles_str'],\n",
       "      dtype='object')"
      ]
     },
     "execution_count": 9,
     "metadata": {},
     "output_type": "execute_result"
    }
   ],
   "source": [
    "data.columns"
   ]
  },
  {
   "cell_type": "markdown",
   "metadata": {},
   "source": [
    "The ``index`` attribute gives us the index names"
   ]
  },
  {
   "cell_type": "code",
   "execution_count": 10,
   "metadata": {},
   "outputs": [
    {
     "data": {
      "text/plain": [
       "RangeIndex(start=0, stop=2322849, step=1)"
      ]
     },
     "execution_count": 10,
     "metadata": {},
     "output_type": "execute_result"
    }
   ],
   "source": [
    "data.index"
   ]
  },
  {
   "cell_type": "markdown",
   "metadata": {},
   "source": [
    "Let's make our ``id`` column the ``index``"
   ]
  },
  {
   "cell_type": "code",
   "execution_count": 17,
   "metadata": {},
   "outputs": [],
   "source": [
    "data.set_index('id', inplace=True)"
   ]
  },
  {
   "cell_type": "markdown",
   "metadata": {},
   "source": [
    "Now let's revisit the ``data.index``"
   ]
  },
  {
   "cell_type": "code",
   "execution_count": 18,
   "metadata": {},
   "outputs": [
    {
     "data": {
      "text/plain": [
       "Int64Index([ 655365, 1245190,   21847,   65553,  720918, 1310744,  196637,\n",
       "             262174,  393249,      35,\n",
       "            ...\n",
       "            1703911, 1814506, 2559314, 2351086, 1712111, 2543603, 2304057,\n",
       "            2007035, 1961981, 2754558],\n",
       "           dtype='int64', name='id', length=2322849)"
      ]
     },
     "execution_count": 18,
     "metadata": {},
     "output_type": "execute_result"
    }
   ],
   "source": [
    "data.index"
   ]
  },
  {
   "cell_type": "markdown",
   "metadata": {},
   "source": [
    "View it with head again:"
   ]
  },
  {
   "cell_type": "code",
   "execution_count": 19,
   "metadata": {
    "scrolled": true
   },
   "outputs": [
    {
     "data": {
      "text/html": [
       "<div>\n",
       "<style scoped>\n",
       "    .dataframe tbody tr th:only-of-type {\n",
       "        vertical-align: middle;\n",
       "    }\n",
       "\n",
       "    .dataframe tbody tr th {\n",
       "        vertical-align: top;\n",
       "    }\n",
       "\n",
       "    .dataframe thead th {\n",
       "        text-align: right;\n",
       "    }\n",
       "</style>\n",
       "<table border=\"1\" class=\"dataframe\">\n",
       "  <thead>\n",
       "    <tr style=\"text-align: right;\">\n",
       "      <th></th>\n",
       "      <th>SMILES_str</th>\n",
       "      <th>stoich_str</th>\n",
       "      <th>mass</th>\n",
       "      <th>pce</th>\n",
       "      <th>voc</th>\n",
       "      <th>jsc</th>\n",
       "      <th>e_homo_alpha</th>\n",
       "      <th>e_gap_alpha</th>\n",
       "      <th>e_lumo_alpha</th>\n",
       "      <th>tmp_smiles_str</th>\n",
       "    </tr>\n",
       "    <tr>\n",
       "      <th>id</th>\n",
       "      <th></th>\n",
       "      <th></th>\n",
       "      <th></th>\n",
       "      <th></th>\n",
       "      <th></th>\n",
       "      <th></th>\n",
       "      <th></th>\n",
       "      <th></th>\n",
       "      <th></th>\n",
       "      <th></th>\n",
       "    </tr>\n",
       "  </thead>\n",
       "  <tbody>\n",
       "    <tr>\n",
       "      <th>655365</th>\n",
       "      <td>C1C=CC=C1c1cc2[se]c3c4occc4c4nsnc4c3c2cn1</td>\n",
       "      <td>C18H9N3OSSe</td>\n",
       "      <td>394.3151</td>\n",
       "      <td>5.161953</td>\n",
       "      <td>0.867601</td>\n",
       "      <td>91.567575</td>\n",
       "      <td>-5.467601</td>\n",
       "      <td>2.022944</td>\n",
       "      <td>-3.444656</td>\n",
       "      <td>C1=CC=C(C1)c1cc2[se]c3c4occc4c4nsnc4c3c2cn1</td>\n",
       "    </tr>\n",
       "    <tr>\n",
       "      <th>1245190</th>\n",
       "      <td>C1C=CC=C1c1cc2[se]c3c(ncc4ccccc34)c2c2=C[SiH2]...</td>\n",
       "      <td>C22H15NSeSi</td>\n",
       "      <td>400.4135</td>\n",
       "      <td>5.261398</td>\n",
       "      <td>0.504824</td>\n",
       "      <td>160.401549</td>\n",
       "      <td>-5.104824</td>\n",
       "      <td>1.630750</td>\n",
       "      <td>-3.474074</td>\n",
       "      <td>C1=CC=C(C1)c1cc2[se]c3c(ncc4ccccc34)c2c2=C[SiH...</td>\n",
       "    </tr>\n",
       "    <tr>\n",
       "      <th>21847</th>\n",
       "      <td>C1C=c2ccc3c4c[nH]cc4c4c5[SiH2]C(=Cc5oc4c3c2=C1...</td>\n",
       "      <td>C24H17NOSi</td>\n",
       "      <td>363.4903</td>\n",
       "      <td>0.000000</td>\n",
       "      <td>0.000000</td>\n",
       "      <td>197.474780</td>\n",
       "      <td>-4.539526</td>\n",
       "      <td>1.462158</td>\n",
       "      <td>-3.077368</td>\n",
       "      <td>C1=CC=C(C1)C1=Cc2oc3c(c2[SiH2]1)c1c[nH]cc1c1cc...</td>\n",
       "    </tr>\n",
       "    <tr>\n",
       "      <th>65553</th>\n",
       "      <td>[SiH2]1C=CC2=C1C=C([SiH2]2)C1=Cc2[se]ccc2[SiH2]1</td>\n",
       "      <td>C12H12SeSi3</td>\n",
       "      <td>319.4448</td>\n",
       "      <td>6.138294</td>\n",
       "      <td>0.630274</td>\n",
       "      <td>149.887545</td>\n",
       "      <td>-5.230274</td>\n",
       "      <td>1.682250</td>\n",
       "      <td>-3.548025</td>\n",
       "      <td>C1=CC2=C([SiH2]1)C=C([SiH2]2)C1=Cc2[se]ccc2[Si...</td>\n",
       "    </tr>\n",
       "    <tr>\n",
       "      <th>720918</th>\n",
       "      <td>C1C=c2c3ccsc3c3[se]c4cc(oc4c3c2=C1)C1=CC=CC1</td>\n",
       "      <td>C20H12OSSe</td>\n",
       "      <td>379.3398</td>\n",
       "      <td>1.991366</td>\n",
       "      <td>0.242119</td>\n",
       "      <td>126.581347</td>\n",
       "      <td>-4.842119</td>\n",
       "      <td>1.809439</td>\n",
       "      <td>-3.032680</td>\n",
       "      <td>C1=CC=C(C1)c1cc2[se]c3c4sccc4c4=CCC=c4c3c2o1</td>\n",
       "    </tr>\n",
       "  </tbody>\n",
       "</table>\n",
       "</div>"
      ],
      "text/plain": [
       "                                                SMILES_str   stoich_str  \\\n",
       "id                                                                        \n",
       "655365           C1C=CC=C1c1cc2[se]c3c4occc4c4nsnc4c3c2cn1  C18H9N3OSSe   \n",
       "1245190  C1C=CC=C1c1cc2[se]c3c(ncc4ccccc34)c2c2=C[SiH2]...  C22H15NSeSi   \n",
       "21847    C1C=c2ccc3c4c[nH]cc4c4c5[SiH2]C(=Cc5oc4c3c2=C1...   C24H17NOSi   \n",
       "65553     [SiH2]1C=CC2=C1C=C([SiH2]2)C1=Cc2[se]ccc2[SiH2]1  C12H12SeSi3   \n",
       "720918        C1C=c2c3ccsc3c3[se]c4cc(oc4c3c2=C1)C1=CC=CC1   C20H12OSSe   \n",
       "\n",
       "             mass       pce       voc         jsc  e_homo_alpha  e_gap_alpha  \\\n",
       "id                                                                             \n",
       "655365   394.3151  5.161953  0.867601   91.567575     -5.467601     2.022944   \n",
       "1245190  400.4135  5.261398  0.504824  160.401549     -5.104824     1.630750   \n",
       "21847    363.4903  0.000000  0.000000  197.474780     -4.539526     1.462158   \n",
       "65553    319.4448  6.138294  0.630274  149.887545     -5.230274     1.682250   \n",
       "720918   379.3398  1.991366  0.242119  126.581347     -4.842119     1.809439   \n",
       "\n",
       "         e_lumo_alpha                                     tmp_smiles_str  \n",
       "id                                                                        \n",
       "655365      -3.444656        C1=CC=C(C1)c1cc2[se]c3c4occc4c4nsnc4c3c2cn1  \n",
       "1245190     -3.474074  C1=CC=C(C1)c1cc2[se]c3c(ncc4ccccc34)c2c2=C[SiH...  \n",
       "21847       -3.077368  C1=CC=C(C1)C1=Cc2oc3c(c2[SiH2]1)c1c[nH]cc1c1cc...  \n",
       "65553       -3.548025  C1=CC2=C([SiH2]1)C=C([SiH2]2)C1=Cc2[se]ccc2[Si...  \n",
       "720918      -3.032680       C1=CC=C(C1)c1cc2[se]c3c4sccc4c4=CCC=c4c3c2o1  "
      ]
     },
     "execution_count": 19,
     "metadata": {},
     "output_type": "execute_result"
    }
   ],
   "source": [
    "data.head()"
   ]
  },
  {
   "cell_type": "code",
   "execution_count": null,
   "metadata": {},
   "outputs": [],
   "source": []
  },
  {
   "cell_type": "markdown",
   "metadata": {},
   "source": [
    "The ``dtypes`` attribute gives the data types of each column:"
   ]
  },
  {
   "cell_type": "code",
   "execution_count": 20,
   "metadata": {},
   "outputs": [
    {
     "data": {
      "text/plain": [
       "SMILES_str         object\n",
       "stoich_str         object\n",
       "mass              float64\n",
       "pce               float64\n",
       "voc               float64\n",
       "jsc               float64\n",
       "e_homo_alpha      float64\n",
       "e_gap_alpha       float64\n",
       "e_lumo_alpha      float64\n",
       "tmp_smiles_str     object\n",
       "dtype: object"
      ]
     },
     "execution_count": 20,
     "metadata": {},
     "output_type": "execute_result"
    }
   ],
   "source": [
    "data.dtypes"
   ]
  },
  {
   "cell_type": "markdown",
   "metadata": {},
   "source": [
    "## 2. Manipulating data with ``pandas``\n",
    "\n",
    "Here we'll cover some key features of manipulating data with pandas"
   ]
  },
  {
   "cell_type": "markdown",
   "metadata": {},
   "source": [
    "Access columns by name using square-bracket indexing:"
   ]
  },
  {
   "cell_type": "code",
   "execution_count": null,
   "metadata": {},
   "outputs": [],
   "source": [
    "data.set_index()"
   ]
  },
  {
   "cell_type": "code",
   "execution_count": 23,
   "metadata": {},
   "outputs": [
    {
     "data": {
      "text/plain": [
       "id\n",
       "655365     394.3151\n",
       "1245190    400.4135\n",
       "21847      363.4903\n",
       "65553      319.4448\n",
       "720918     379.3398\n",
       "1310744    454.4137\n",
       "196637     404.2520\n",
       "262174     444.2730\n",
       "393249     396.3495\n",
       "35         292.4328\n",
       "1048612    290.4606\n",
       "917542     489.1948\n",
       "1441831    335.2668\n",
       "1376296    443.5024\n",
       "1638442    393.5445\n",
       "98350      340.5204\n",
       "2162747    429.6251\n",
       "557119     258.3186\n",
       "753728     336.4684\n",
       "819265     459.5774\n",
       "1278019    394.6522\n",
       "2096063    509.5136\n",
       "2752585    412.5660\n",
       "1572945    389.3786\n",
       "2359381    434.5416\n",
       "1540183    455.2999\n",
       "1638500    385.3226\n",
       "2621542    368.4770\n",
       "98411      402.3777\n",
       "524398     393.5445\n",
       "             ...   \n",
       "2705444    483.7863\n",
       "2925216    520.7728\n",
       "2742210    520.7728\n",
       "3092419    485.7625\n",
       "1253317    427.6983\n",
       "1841096    467.7193\n",
       "2770889    467.7113\n",
       "1816522    472.7514\n",
       "1810382    467.7193\n",
       "1648591    504.7058\n",
       "2705360    503.7217\n",
       "2349009    471.7753\n",
       "3091107    534.8756\n",
       "8152       508.4810\n",
       "1781722    472.7634\n",
       "2470223    535.8557\n",
       "2469856    501.7495\n",
       "1912803    504.7058\n",
       "1216485    408.6768\n",
       "2619366    448.6840\n",
       "1703911    465.7471\n",
       "1814506    472.7634\n",
       "2559314    473.7475\n",
       "2351086    484.7744\n",
       "1712111    536.8398\n",
       "2543603    486.7506\n",
       "2304057    486.7506\n",
       "2007035    482.7982\n",
       "1961981    519.6454\n",
       "2754558    519.7887\n",
       "Name: mass, Length: 2322849, dtype: float64"
      ]
     },
     "execution_count": 23,
     "metadata": {},
     "output_type": "execute_result"
    }
   ],
   "source": [
    "data['mass']"
   ]
  },
  {
   "cell_type": "code",
   "execution_count": 25,
   "metadata": {},
   "outputs": [],
   "source": [
    "foo = foo.reset_index()"
   ]
  },
  {
   "cell_type": "code",
   "execution_count": 27,
   "metadata": {},
   "outputs": [
    {
     "data": {
      "text/plain": [
       "0          394.3151\n",
       "1          400.4135\n",
       "2          363.4903\n",
       "3          319.4448\n",
       "4          379.3398\n",
       "5          454.4137\n",
       "6          404.2520\n",
       "7          444.2730\n",
       "8          396.3495\n",
       "9          292.4328\n",
       "10         290.4606\n",
       "11         489.1948\n",
       "12         335.2668\n",
       "13         443.5024\n",
       "14         393.5445\n",
       "15         340.5204\n",
       "16         429.6251\n",
       "17         258.3186\n",
       "18         336.4684\n",
       "19         459.5774\n",
       "20         394.6522\n",
       "21         509.5136\n",
       "22         412.5660\n",
       "23         389.3786\n",
       "24         434.5416\n",
       "25         455.2999\n",
       "26         385.3226\n",
       "27         368.4770\n",
       "28         402.3777\n",
       "29         393.5445\n",
       "             ...   \n",
       "2322819    483.7863\n",
       "2322820    520.7728\n",
       "2322821    520.7728\n",
       "2322822    485.7625\n",
       "2322823    427.6983\n",
       "2322824    467.7193\n",
       "2322825    467.7113\n",
       "2322826    472.7514\n",
       "2322827    467.7193\n",
       "2322828    504.7058\n",
       "2322829    503.7217\n",
       "2322830    471.7753\n",
       "2322831    534.8756\n",
       "2322832    508.4810\n",
       "2322833    472.7634\n",
       "2322834    535.8557\n",
       "2322835    501.7495\n",
       "2322836    504.7058\n",
       "2322837    408.6768\n",
       "2322838    448.6840\n",
       "2322839    465.7471\n",
       "2322840    472.7634\n",
       "2322841    473.7475\n",
       "2322842    484.7744\n",
       "2322843    536.8398\n",
       "2322844    486.7506\n",
       "2322845    486.7506\n",
       "2322846    482.7982\n",
       "2322847    519.6454\n",
       "2322848    519.7887\n",
       "Name: mass, Length: 2322849, dtype: float64"
      ]
     },
     "execution_count": 27,
     "metadata": {},
     "output_type": "execute_result"
    }
   ],
   "source": [
    "foo['mass']"
   ]
  },
  {
   "cell_type": "code",
   "execution_count": 28,
   "metadata": {},
   "outputs": [
    {
     "data": {
      "text/plain": [
       "id\n",
       "655365     21.887814\n",
       "1245190    22.226327\n",
       "21847      20.176778\n",
       "65553      17.731881\n",
       "720918     21.056559\n",
       "1310744    25.223793\n",
       "196637     22.439396\n",
       "262174     24.660899\n",
       "393249     22.000740\n",
       "35         16.232487\n",
       "1048612    16.123013\n",
       "917542     27.154438\n",
       "1441831    18.610135\n",
       "1376296    24.618124\n",
       "1638442    21.845039\n",
       "98350      18.901755\n",
       "2162747    23.847817\n",
       "557119     14.338861\n",
       "753728     18.676834\n",
       "819265     25.510422\n",
       "1278019    21.906526\n",
       "2096063    28.282303\n",
       "2752585    22.900893\n",
       "1572945    21.613797\n",
       "2359381    24.120724\n",
       "1540183    25.272985\n",
       "1638500    21.388655\n",
       "2621542    20.453582\n",
       "98411      22.335356\n",
       "524398     21.845039\n",
       "             ...    \n",
       "2705444    26.854220\n",
       "2925216    28.907283\n",
       "2742210    28.907283\n",
       "3092419    26.963916\n",
       "1253317    23.740863\n",
       "1841096    25.962366\n",
       "2770889    25.961922\n",
       "1816522    26.241690\n",
       "1810382    25.962366\n",
       "1648591    28.015429\n",
       "2705360    27.960803\n",
       "2349009    26.187509\n",
       "3091107    29.690108\n",
       "8152       28.224985\n",
       "1781722    26.242356\n",
       "2470223    29.744511\n",
       "2469856    27.851330\n",
       "1912803    28.015429\n",
       "1216485    22.685010\n",
       "2619366    24.905747\n",
       "1703911    25.852893\n",
       "1814506    26.242356\n",
       "2559314    26.296982\n",
       "2351086    26.909068\n",
       "1712111    29.799137\n",
       "2543603    27.018764\n",
       "2304057    27.018764\n",
       "2007035    26.799373\n",
       "1961981    28.844703\n",
       "2754558    28.852657\n",
       "Name: mass, Length: 2322849, dtype: float64"
      ]
     },
     "execution_count": 28,
     "metadata": {},
     "output_type": "execute_result"
    }
   ],
   "source": [
    "data['mass'] / 18.01528"
   ]
  },
  {
   "cell_type": "markdown",
   "metadata": {},
   "source": [
    "Mathematical operations on columns happen *element-wise* (note 18.01528 is the weight of H2O):"
   ]
  },
  {
   "cell_type": "code",
   "execution_count": null,
   "metadata": {},
   "outputs": [],
   "source": []
  },
  {
   "cell_type": "markdown",
   "metadata": {},
   "source": [
    "Columns can be created (or overwritten) with the assignment operator.\n",
    "Let's create a *mass_ratio_H2O* column with the mass ratio of each molecule to H2O"
   ]
  },
  {
   "cell_type": "code",
   "execution_count": 29,
   "metadata": {},
   "outputs": [],
   "source": [
    "data['mass_ratio_H20'] = data['mass'] / 18.01528"
   ]
  },
  {
   "cell_type": "code",
   "execution_count": 30,
   "metadata": {},
   "outputs": [
    {
     "data": {
      "text/html": [
       "<div>\n",
       "<style scoped>\n",
       "    .dataframe tbody tr th:only-of-type {\n",
       "        vertical-align: middle;\n",
       "    }\n",
       "\n",
       "    .dataframe tbody tr th {\n",
       "        vertical-align: top;\n",
       "    }\n",
       "\n",
       "    .dataframe thead th {\n",
       "        text-align: right;\n",
       "    }\n",
       "</style>\n",
       "<table border=\"1\" class=\"dataframe\">\n",
       "  <thead>\n",
       "    <tr style=\"text-align: right;\">\n",
       "      <th></th>\n",
       "      <th>SMILES_str</th>\n",
       "      <th>stoich_str</th>\n",
       "      <th>mass</th>\n",
       "      <th>pce</th>\n",
       "      <th>voc</th>\n",
       "      <th>jsc</th>\n",
       "      <th>e_homo_alpha</th>\n",
       "      <th>e_gap_alpha</th>\n",
       "      <th>e_lumo_alpha</th>\n",
       "      <th>tmp_smiles_str</th>\n",
       "      <th>mass_ratio_H20</th>\n",
       "    </tr>\n",
       "    <tr>\n",
       "      <th>id</th>\n",
       "      <th></th>\n",
       "      <th></th>\n",
       "      <th></th>\n",
       "      <th></th>\n",
       "      <th></th>\n",
       "      <th></th>\n",
       "      <th></th>\n",
       "      <th></th>\n",
       "      <th></th>\n",
       "      <th></th>\n",
       "      <th></th>\n",
       "    </tr>\n",
       "  </thead>\n",
       "  <tbody>\n",
       "    <tr>\n",
       "      <th>655365</th>\n",
       "      <td>C1C=CC=C1c1cc2[se]c3c4occc4c4nsnc4c3c2cn1</td>\n",
       "      <td>C18H9N3OSSe</td>\n",
       "      <td>394.3151</td>\n",
       "      <td>5.161953</td>\n",
       "      <td>0.867601</td>\n",
       "      <td>91.567575</td>\n",
       "      <td>-5.467601</td>\n",
       "      <td>2.022944</td>\n",
       "      <td>-3.444656</td>\n",
       "      <td>C1=CC=C(C1)c1cc2[se]c3c4occc4c4nsnc4c3c2cn1</td>\n",
       "      <td>21.887814</td>\n",
       "    </tr>\n",
       "    <tr>\n",
       "      <th>1245190</th>\n",
       "      <td>C1C=CC=C1c1cc2[se]c3c(ncc4ccccc34)c2c2=C[SiH2]...</td>\n",
       "      <td>C22H15NSeSi</td>\n",
       "      <td>400.4135</td>\n",
       "      <td>5.261398</td>\n",
       "      <td>0.504824</td>\n",
       "      <td>160.401549</td>\n",
       "      <td>-5.104824</td>\n",
       "      <td>1.630750</td>\n",
       "      <td>-3.474074</td>\n",
       "      <td>C1=CC=C(C1)c1cc2[se]c3c(ncc4ccccc34)c2c2=C[SiH...</td>\n",
       "      <td>22.226327</td>\n",
       "    </tr>\n",
       "    <tr>\n",
       "      <th>21847</th>\n",
       "      <td>C1C=c2ccc3c4c[nH]cc4c4c5[SiH2]C(=Cc5oc4c3c2=C1...</td>\n",
       "      <td>C24H17NOSi</td>\n",
       "      <td>363.4903</td>\n",
       "      <td>0.000000</td>\n",
       "      <td>0.000000</td>\n",
       "      <td>197.474780</td>\n",
       "      <td>-4.539526</td>\n",
       "      <td>1.462158</td>\n",
       "      <td>-3.077368</td>\n",
       "      <td>C1=CC=C(C1)C1=Cc2oc3c(c2[SiH2]1)c1c[nH]cc1c1cc...</td>\n",
       "      <td>20.176778</td>\n",
       "    </tr>\n",
       "    <tr>\n",
       "      <th>65553</th>\n",
       "      <td>[SiH2]1C=CC2=C1C=C([SiH2]2)C1=Cc2[se]ccc2[SiH2]1</td>\n",
       "      <td>C12H12SeSi3</td>\n",
       "      <td>319.4448</td>\n",
       "      <td>6.138294</td>\n",
       "      <td>0.630274</td>\n",
       "      <td>149.887545</td>\n",
       "      <td>-5.230274</td>\n",
       "      <td>1.682250</td>\n",
       "      <td>-3.548025</td>\n",
       "      <td>C1=CC2=C([SiH2]1)C=C([SiH2]2)C1=Cc2[se]ccc2[Si...</td>\n",
       "      <td>17.731881</td>\n",
       "    </tr>\n",
       "    <tr>\n",
       "      <th>720918</th>\n",
       "      <td>C1C=c2c3ccsc3c3[se]c4cc(oc4c3c2=C1)C1=CC=CC1</td>\n",
       "      <td>C20H12OSSe</td>\n",
       "      <td>379.3398</td>\n",
       "      <td>1.991366</td>\n",
       "      <td>0.242119</td>\n",
       "      <td>126.581347</td>\n",
       "      <td>-4.842119</td>\n",
       "      <td>1.809439</td>\n",
       "      <td>-3.032680</td>\n",
       "      <td>C1=CC=C(C1)c1cc2[se]c3c4sccc4c4=CCC=c4c3c2o1</td>\n",
       "      <td>21.056559</td>\n",
       "    </tr>\n",
       "  </tbody>\n",
       "</table>\n",
       "</div>"
      ],
      "text/plain": [
       "                                                SMILES_str   stoich_str  \\\n",
       "id                                                                        \n",
       "655365           C1C=CC=C1c1cc2[se]c3c4occc4c4nsnc4c3c2cn1  C18H9N3OSSe   \n",
       "1245190  C1C=CC=C1c1cc2[se]c3c(ncc4ccccc34)c2c2=C[SiH2]...  C22H15NSeSi   \n",
       "21847    C1C=c2ccc3c4c[nH]cc4c4c5[SiH2]C(=Cc5oc4c3c2=C1...   C24H17NOSi   \n",
       "65553     [SiH2]1C=CC2=C1C=C([SiH2]2)C1=Cc2[se]ccc2[SiH2]1  C12H12SeSi3   \n",
       "720918        C1C=c2c3ccsc3c3[se]c4cc(oc4c3c2=C1)C1=CC=CC1   C20H12OSSe   \n",
       "\n",
       "             mass       pce       voc         jsc  e_homo_alpha  e_gap_alpha  \\\n",
       "id                                                                             \n",
       "655365   394.3151  5.161953  0.867601   91.567575     -5.467601     2.022944   \n",
       "1245190  400.4135  5.261398  0.504824  160.401549     -5.104824     1.630750   \n",
       "21847    363.4903  0.000000  0.000000  197.474780     -4.539526     1.462158   \n",
       "65553    319.4448  6.138294  0.630274  149.887545     -5.230274     1.682250   \n",
       "720918   379.3398  1.991366  0.242119  126.581347     -4.842119     1.809439   \n",
       "\n",
       "         e_lumo_alpha                                     tmp_smiles_str  \\\n",
       "id                                                                         \n",
       "655365      -3.444656        C1=CC=C(C1)c1cc2[se]c3c4occc4c4nsnc4c3c2cn1   \n",
       "1245190     -3.474074  C1=CC=C(C1)c1cc2[se]c3c(ncc4ccccc34)c2c2=C[SiH...   \n",
       "21847       -3.077368  C1=CC=C(C1)C1=Cc2oc3c(c2[SiH2]1)c1c[nH]cc1c1cc...   \n",
       "65553       -3.548025  C1=CC2=C([SiH2]1)C=C([SiH2]2)C1=Cc2[se]ccc2[Si...   \n",
       "720918      -3.032680       C1=CC=C(C1)c1cc2[se]c3c4sccc4c4=CCC=c4c3c2o1   \n",
       "\n",
       "         mass_ratio_H20  \n",
       "id                       \n",
       "655365        21.887814  \n",
       "1245190       22.226327  \n",
       "21847         20.176778  \n",
       "65553         17.731881  \n",
       "720918        21.056559  "
      ]
     },
     "execution_count": 30,
     "metadata": {},
     "output_type": "execute_result"
    }
   ],
   "source": [
    "data.head()"
   ]
  },
  {
   "cell_type": "code",
   "execution_count": null,
   "metadata": {},
   "outputs": [],
   "source": []
  },
  {
   "cell_type": "markdown",
   "metadata": {},
   "source": [
    "In preparation for grouping the data, let's bin the molecules by their molecular mass. For that, we'll use ``pd.cut``"
   ]
  },
  {
   "cell_type": "code",
   "execution_count": 36,
   "metadata": {},
   "outputs": [],
   "source": [
    "data['mass_group'] = pd.cut(data['mass'], 10)"
   ]
  },
  {
   "cell_type": "code",
   "execution_count": 37,
   "metadata": {},
   "outputs": [
    {
     "data": {
      "text/html": [
       "<div>\n",
       "<style scoped>\n",
       "    .dataframe tbody tr th:only-of-type {\n",
       "        vertical-align: middle;\n",
       "    }\n",
       "\n",
       "    .dataframe tbody tr th {\n",
       "        vertical-align: top;\n",
       "    }\n",
       "\n",
       "    .dataframe thead th {\n",
       "        text-align: right;\n",
       "    }\n",
       "</style>\n",
       "<table border=\"1\" class=\"dataframe\">\n",
       "  <thead>\n",
       "    <tr style=\"text-align: right;\">\n",
       "      <th></th>\n",
       "      <th>SMILES_str</th>\n",
       "      <th>stoich_str</th>\n",
       "      <th>mass</th>\n",
       "      <th>pce</th>\n",
       "      <th>voc</th>\n",
       "      <th>jsc</th>\n",
       "      <th>e_homo_alpha</th>\n",
       "      <th>e_gap_alpha</th>\n",
       "      <th>e_lumo_alpha</th>\n",
       "      <th>tmp_smiles_str</th>\n",
       "      <th>mass_ratio_H20</th>\n",
       "      <th>mass_group</th>\n",
       "    </tr>\n",
       "    <tr>\n",
       "      <th>id</th>\n",
       "      <th></th>\n",
       "      <th></th>\n",
       "      <th></th>\n",
       "      <th></th>\n",
       "      <th></th>\n",
       "      <th></th>\n",
       "      <th></th>\n",
       "      <th></th>\n",
       "      <th></th>\n",
       "      <th></th>\n",
       "      <th></th>\n",
       "      <th></th>\n",
       "    </tr>\n",
       "  </thead>\n",
       "  <tbody>\n",
       "    <tr>\n",
       "      <th>655365</th>\n",
       "      <td>C1C=CC=C1c1cc2[se]c3c4occc4c4nsnc4c3c2cn1</td>\n",
       "      <td>C18H9N3OSSe</td>\n",
       "      <td>394.3151</td>\n",
       "      <td>5.161953</td>\n",
       "      <td>0.867601</td>\n",
       "      <td>91.567575</td>\n",
       "      <td>-5.467601</td>\n",
       "      <td>2.022944</td>\n",
       "      <td>-3.444656</td>\n",
       "      <td>C1=CC=C(C1)c1cc2[se]c3c4occc4c4nsnc4c3c2cn1</td>\n",
       "      <td>21.887814</td>\n",
       "      <td>(375.486, 427.298]</td>\n",
       "    </tr>\n",
       "    <tr>\n",
       "      <th>1245190</th>\n",
       "      <td>C1C=CC=C1c1cc2[se]c3c(ncc4ccccc34)c2c2=C[SiH2]...</td>\n",
       "      <td>C22H15NSeSi</td>\n",
       "      <td>400.4135</td>\n",
       "      <td>5.261398</td>\n",
       "      <td>0.504824</td>\n",
       "      <td>160.401549</td>\n",
       "      <td>-5.104824</td>\n",
       "      <td>1.630750</td>\n",
       "      <td>-3.474074</td>\n",
       "      <td>C1=CC=C(C1)c1cc2[se]c3c(ncc4ccccc34)c2c2=C[SiH...</td>\n",
       "      <td>22.226327</td>\n",
       "      <td>(375.486, 427.298]</td>\n",
       "    </tr>\n",
       "    <tr>\n",
       "      <th>21847</th>\n",
       "      <td>C1C=c2ccc3c4c[nH]cc4c4c5[SiH2]C(=Cc5oc4c3c2=C1...</td>\n",
       "      <td>C24H17NOSi</td>\n",
       "      <td>363.4903</td>\n",
       "      <td>0.000000</td>\n",
       "      <td>0.000000</td>\n",
       "      <td>197.474780</td>\n",
       "      <td>-4.539526</td>\n",
       "      <td>1.462158</td>\n",
       "      <td>-3.077368</td>\n",
       "      <td>C1=CC=C(C1)C1=Cc2oc3c(c2[SiH2]1)c1c[nH]cc1c1cc...</td>\n",
       "      <td>20.176778</td>\n",
       "      <td>(323.674, 375.486]</td>\n",
       "    </tr>\n",
       "    <tr>\n",
       "      <th>65553</th>\n",
       "      <td>[SiH2]1C=CC2=C1C=C([SiH2]2)C1=Cc2[se]ccc2[SiH2]1</td>\n",
       "      <td>C12H12SeSi3</td>\n",
       "      <td>319.4448</td>\n",
       "      <td>6.138294</td>\n",
       "      <td>0.630274</td>\n",
       "      <td>149.887545</td>\n",
       "      <td>-5.230274</td>\n",
       "      <td>1.682250</td>\n",
       "      <td>-3.548025</td>\n",
       "      <td>C1=CC2=C([SiH2]1)C=C([SiH2]2)C1=Cc2[se]ccc2[Si...</td>\n",
       "      <td>17.731881</td>\n",
       "      <td>(271.862, 323.674]</td>\n",
       "    </tr>\n",
       "    <tr>\n",
       "      <th>720918</th>\n",
       "      <td>C1C=c2c3ccsc3c3[se]c4cc(oc4c3c2=C1)C1=CC=CC1</td>\n",
       "      <td>C20H12OSSe</td>\n",
       "      <td>379.3398</td>\n",
       "      <td>1.991366</td>\n",
       "      <td>0.242119</td>\n",
       "      <td>126.581347</td>\n",
       "      <td>-4.842119</td>\n",
       "      <td>1.809439</td>\n",
       "      <td>-3.032680</td>\n",
       "      <td>C1=CC=C(C1)c1cc2[se]c3c4sccc4c4=CCC=c4c3c2o1</td>\n",
       "      <td>21.056559</td>\n",
       "      <td>(375.486, 427.298]</td>\n",
       "    </tr>\n",
       "  </tbody>\n",
       "</table>\n",
       "</div>"
      ],
      "text/plain": [
       "                                                SMILES_str   stoich_str  \\\n",
       "id                                                                        \n",
       "655365           C1C=CC=C1c1cc2[se]c3c4occc4c4nsnc4c3c2cn1  C18H9N3OSSe   \n",
       "1245190  C1C=CC=C1c1cc2[se]c3c(ncc4ccccc34)c2c2=C[SiH2]...  C22H15NSeSi   \n",
       "21847    C1C=c2ccc3c4c[nH]cc4c4c5[SiH2]C(=Cc5oc4c3c2=C1...   C24H17NOSi   \n",
       "65553     [SiH2]1C=CC2=C1C=C([SiH2]2)C1=Cc2[se]ccc2[SiH2]1  C12H12SeSi3   \n",
       "720918        C1C=c2c3ccsc3c3[se]c4cc(oc4c3c2=C1)C1=CC=CC1   C20H12OSSe   \n",
       "\n",
       "             mass       pce       voc         jsc  e_homo_alpha  e_gap_alpha  \\\n",
       "id                                                                             \n",
       "655365   394.3151  5.161953  0.867601   91.567575     -5.467601     2.022944   \n",
       "1245190  400.4135  5.261398  0.504824  160.401549     -5.104824     1.630750   \n",
       "21847    363.4903  0.000000  0.000000  197.474780     -4.539526     1.462158   \n",
       "65553    319.4448  6.138294  0.630274  149.887545     -5.230274     1.682250   \n",
       "720918   379.3398  1.991366  0.242119  126.581347     -4.842119     1.809439   \n",
       "\n",
       "         e_lumo_alpha                                     tmp_smiles_str  \\\n",
       "id                                                                         \n",
       "655365      -3.444656        C1=CC=C(C1)c1cc2[se]c3c4occc4c4nsnc4c3c2cn1   \n",
       "1245190     -3.474074  C1=CC=C(C1)c1cc2[se]c3c(ncc4ccccc34)c2c2=C[SiH...   \n",
       "21847       -3.077368  C1=CC=C(C1)C1=Cc2oc3c(c2[SiH2]1)c1c[nH]cc1c1cc...   \n",
       "65553       -3.548025  C1=CC2=C([SiH2]1)C=C([SiH2]2)C1=Cc2[se]ccc2[Si...   \n",
       "720918      -3.032680       C1=CC=C(C1)c1cc2[se]c3c4sccc4c4=CCC=c4c3c2o1   \n",
       "\n",
       "         mass_ratio_H20          mass_group  \n",
       "id                                           \n",
       "655365        21.887814  (375.486, 427.298]  \n",
       "1245190       22.226327  (375.486, 427.298]  \n",
       "21847         20.176778  (323.674, 375.486]  \n",
       "65553         17.731881  (271.862, 323.674]  \n",
       "720918        21.056559  (375.486, 427.298]  "
      ]
     },
     "execution_count": 37,
     "metadata": {},
     "output_type": "execute_result"
    }
   ],
   "source": [
    "data.head()"
   ]
  },
  {
   "cell_type": "code",
   "execution_count": 38,
   "metadata": {},
   "outputs": [
    {
     "data": {
      "text/plain": [
       "SMILES_str          object\n",
       "stoich_str          object\n",
       "mass               float64\n",
       "pce                float64\n",
       "voc                float64\n",
       "jsc                float64\n",
       "e_homo_alpha       float64\n",
       "e_gap_alpha        float64\n",
       "e_lumo_alpha       float64\n",
       "tmp_smiles_str      object\n",
       "mass_ratio_H20     float64\n",
       "mass_group        category\n",
       "dtype: object"
      ]
     },
     "execution_count": 38,
     "metadata": {},
     "output_type": "execute_result"
    }
   ],
   "source": [
    "data.dtypes"
   ]
  },
  {
   "cell_type": "markdown",
   "metadata": {},
   "source": [
    "### Simple Grouping of Data\n",
    "\n",
    "The real power of Pandas comes in its tools for grouping and aggregating data. Here we'll look at *value counts* and the basics of *group-by* operations."
   ]
  },
  {
   "cell_type": "markdown",
   "metadata": {},
   "source": [
    "#### Value Counts"
   ]
  },
  {
   "cell_type": "markdown",
   "metadata": {},
   "source": [
    "Pandas includes an array of useful functionality for manipulating and analyzing tabular data.\n",
    "We'll take a look at two of these here."
   ]
  },
  {
   "cell_type": "markdown",
   "metadata": {},
   "source": [
    "The ``pandas.value_counts`` returns statistics on the unique values within each column.\n",
    "\n",
    "We can use it, for example, to break down the molecules by their mass group that we just created:"
   ]
  },
  {
   "cell_type": "code",
   "execution_count": 40,
   "metadata": {},
   "outputs": [
    {
     "data": {
      "text/plain": [
       "(167.72, 220.05]         937\n",
       "(220.05, 271.862]      21253\n",
       "(271.862, 323.674]    132159\n",
       "(323.674, 375.486]    395811\n",
       "(375.486, 427.298]    749908\n",
       "(427.298, 479.111]    729369\n",
       "(479.111, 530.923]    247833\n",
       "(530.923, 582.735]     41111\n",
       "(582.735, 634.547]      4176\n",
       "(634.547, 686.359]       292\n",
       "Name: mass_group, dtype: int64"
      ]
     },
     "execution_count": 40,
     "metadata": {},
     "output_type": "execute_result"
    }
   ],
   "source": [
    "pd.value_counts(data['mass_group'], sort=False)"
   ]
  },
  {
   "cell_type": "markdown",
   "metadata": {},
   "source": [
    "What happens if we try this on a continuous valued variable?"
   ]
  },
  {
   "cell_type": "code",
   "execution_count": 42,
   "metadata": {},
   "outputs": [
    {
     "data": {
      "text/plain": [
       "0.000000    109854\n",
       "1.334476         6\n",
       "2.229965         4\n",
       "3.378631         4\n",
       "0.832335         4\n",
       "1.757805         4\n",
       "1.748131         4\n",
       "0.611385         4\n",
       "2.347740         4\n",
       "2.455332         4\n",
       "2.056930         4\n",
       "1.608040         4\n",
       "6.193170         4\n",
       "4.878460         4\n",
       "4.075839         4\n",
       "1.960030         4\n",
       "3.146475         4\n",
       "0.313562         4\n",
       "1.478590         4\n",
       "1.848397         4\n",
       "5.641962         4\n",
       "1.626072         4\n",
       "2.387791         4\n",
       "0.879680         4\n",
       "3.100729         4\n",
       "2.476426         4\n",
       "0.490215         4\n",
       "1.010616         4\n",
       "2.441131         4\n",
       "5.540558         4\n",
       "             ...  \n",
       "2.729901         1\n",
       "2.777837         1\n",
       "3.411103         1\n",
       "1.502644         1\n",
       "6.706605         1\n",
       "4.088114         1\n",
       "2.680453         1\n",
       "2.035536         1\n",
       "6.631585         1\n",
       "3.110992         1\n",
       "1.118627         1\n",
       "1.411595         1\n",
       "4.541150         1\n",
       "6.235040         1\n",
       "2.247999         1\n",
       "5.689173         1\n",
       "7.154354         1\n",
       "1.232087         1\n",
       "2.282375         1\n",
       "5.728708         1\n",
       "5.578350         1\n",
       "3.953680         1\n",
       "5.979996         1\n",
       "3.171306         1\n",
       "6.382782         1\n",
       "2.324180         1\n",
       "5.221554         1\n",
       "5.986343         1\n",
       "5.352108         1\n",
       "1.503284         1\n",
       "Name: pce, Length: 2194327, dtype: int64"
      ]
     },
     "execution_count": 42,
     "metadata": {},
     "output_type": "execute_result"
    }
   ],
   "source": [
    "pd.value_counts(data['pce'])"
   ]
  },
  {
   "cell_type": "markdown",
   "metadata": {},
   "source": [
    "We can do a little data exploration with this to look 0s in columns.  Here, let's look at the power conversion effeciency (``pce``)"
   ]
  },
  {
   "cell_type": "code",
   "execution_count": 44,
   "metadata": {},
   "outputs": [
    {
     "data": {
      "text/plain": [
       "390.4646    4420\n",
       "378.4536    4214\n",
       "393.5405    3844\n",
       "396.4928    3834\n",
       "404.5674    3750\n",
       "389.4805    3732\n",
       "443.6003    3670\n",
       "428.5134    3643\n",
       "388.4924    3628\n",
       "391.4527    3600\n",
       "394.5286    3590\n",
       "392.5564    3493\n",
       "407.5197    3441\n",
       "389.4765    3428\n",
       "447.5407    3402\n",
       "395.5047    3338\n",
       "340.4048    3324\n",
       "379.4417    3293\n",
       "394.5206    3274\n",
       "446.5526    3270\n",
       "406.5316    3250\n",
       "408.5078    3236\n",
       "442.6162    3227\n",
       "397.4809    3212\n",
       "395.5087    3202\n",
       "445.5685    3137\n",
       "410.5956    3102\n",
       "444.5884    3102\n",
       "445.5645    3024\n",
       "405.5555    2996\n",
       "            ... \n",
       "468.1371       1\n",
       "420.5824       1\n",
       "291.3072       1\n",
       "355.2182       1\n",
       "519.0435       1\n",
       "223.2737       1\n",
       "406.4796       1\n",
       "279.2541       1\n",
       "401.4315       1\n",
       "404.2939       1\n",
       "322.6622       1\n",
       "227.3297       1\n",
       "320.4628       1\n",
       "363.0374       1\n",
       "300.5132       1\n",
       "300.1743       1\n",
       "263.2631       1\n",
       "402.4156       1\n",
       "302.2960       1\n",
       "363.1353       1\n",
       "419.3808       1\n",
       "286.3984       1\n",
       "390.4086       1\n",
       "429.4335       1\n",
       "291.2731       1\n",
       "391.3927       1\n",
       "421.3271       1\n",
       "239.3407       1\n",
       "290.2890       1\n",
       "290.2850       1\n",
       "Name: mass, Length: 10394, dtype: int64"
      ]
     },
     "execution_count": 44,
     "metadata": {},
     "output_type": "execute_result"
    }
   ],
   "source": [
    "pd.value_counts(data['mass'])"
   ]
  },
  {
   "cell_type": "markdown",
   "metadata": {},
   "source": [
    "### Group-by Operation\n",
    "\n",
    "One of the killer features of the Pandas dataframe is the ability to do group-by operations.\n",
    "You can visualize the group-by like this (image borrowed from the [Python Data Science Handbook](http://shop.oreilly.com/product/0636920034919.do))\n",
    "\n",
    "![image](split_apply_combine.png)"
   ]
  },
  {
   "cell_type": "markdown",
   "metadata": {},
   "source": [
    "Let's break take this in smaller steps.\n",
    "Recall our ``mass_group`` column."
   ]
  },
  {
   "cell_type": "code",
   "execution_count": 45,
   "metadata": {},
   "outputs": [
    {
     "data": {
      "text/plain": [
       "(167.72, 220.05]         937\n",
       "(220.05, 271.862]      21253\n",
       "(271.862, 323.674]    132159\n",
       "(323.674, 375.486]    395811\n",
       "(375.486, 427.298]    749908\n",
       "(427.298, 479.111]    729369\n",
       "(479.111, 530.923]    247833\n",
       "(530.923, 582.735]     41111\n",
       "(582.735, 634.547]      4176\n",
       "(634.547, 686.359]       292\n",
       "Name: mass_group, dtype: int64"
      ]
     },
     "execution_count": 45,
     "metadata": {},
     "output_type": "execute_result"
    }
   ],
   "source": [
    "pd.value_counts(data['mass_group'], sort=False)"
   ]
  },
  {
   "cell_type": "markdown",
   "metadata": {},
   "source": [
    "groupby allows us to look at the number of values for each column and each value."
   ]
  },
  {
   "cell_type": "code",
   "execution_count": 54,
   "metadata": {},
   "outputs": [
    {
     "data": {
      "text/html": [
       "<div>\n",
       "<style scoped>\n",
       "    .dataframe tbody tr th:only-of-type {\n",
       "        vertical-align: middle;\n",
       "    }\n",
       "\n",
       "    .dataframe tbody tr th {\n",
       "        vertical-align: top;\n",
       "    }\n",
       "\n",
       "    .dataframe thead th {\n",
       "        text-align: right;\n",
       "    }\n",
       "</style>\n",
       "<table border=\"1\" class=\"dataframe\">\n",
       "  <thead>\n",
       "    <tr style=\"text-align: right;\">\n",
       "      <th></th>\n",
       "      <th>mass</th>\n",
       "      <th>pce</th>\n",
       "      <th>voc</th>\n",
       "      <th>jsc</th>\n",
       "      <th>e_homo_alpha</th>\n",
       "      <th>e_gap_alpha</th>\n",
       "      <th>e_lumo_alpha</th>\n",
       "      <th>mass_ratio_H20</th>\n",
       "    </tr>\n",
       "  </thead>\n",
       "  <tbody>\n",
       "    <tr>\n",
       "      <th>count</th>\n",
       "      <td>2.322849e+06</td>\n",
       "      <td>2.322849e+06</td>\n",
       "      <td>2.322849e+06</td>\n",
       "      <td>2.322849e+06</td>\n",
       "      <td>2.322849e+06</td>\n",
       "      <td>2.322849e+06</td>\n",
       "      <td>2.322849e+06</td>\n",
       "      <td>2.322849e+06</td>\n",
       "    </tr>\n",
       "    <tr>\n",
       "      <th>mean</th>\n",
       "      <td>4.155640e+02</td>\n",
       "      <td>3.924612e+00</td>\n",
       "      <td>5.520989e-01</td>\n",
       "      <td>1.204695e+02</td>\n",
       "      <td>-5.173904e+00</td>\n",
       "      <td>1.881213e+00</td>\n",
       "      <td>-3.292690e+00</td>\n",
       "      <td>2.306731e+01</td>\n",
       "    </tr>\n",
       "    <tr>\n",
       "      <th>std</th>\n",
       "      <td>5.985317e+01</td>\n",
       "      <td>2.507639e+00</td>\n",
       "      <td>3.037830e-01</td>\n",
       "      <td>6.676970e+01</td>\n",
       "      <td>3.028554e-01</td>\n",
       "      <td>4.002805e-01</td>\n",
       "      <td>3.902608e-01</td>\n",
       "      <td>3.322356e+00</td>\n",
       "    </tr>\n",
       "    <tr>\n",
       "      <th>min</th>\n",
       "      <td>1.682378e+02</td>\n",
       "      <td>0.000000e+00</td>\n",
       "      <td>0.000000e+00</td>\n",
       "      <td>0.000000e+00</td>\n",
       "      <td>-7.512315e+00</td>\n",
       "      <td>-2.939619e-03</td>\n",
       "      <td>-6.086537e+00</td>\n",
       "      <td>9.338617e+00</td>\n",
       "    </tr>\n",
       "    <tr>\n",
       "      <th>25%</th>\n",
       "      <td>3.784536e+02</td>\n",
       "      <td>2.058252e+00</td>\n",
       "      <td>3.428861e-01</td>\n",
       "      <td>6.967192e+01</td>\n",
       "      <td>-5.367790e+00</td>\n",
       "      <td>1.588780e+00</td>\n",
       "      <td>-3.587081e+00</td>\n",
       "      <td>2.100737e+01</td>\n",
       "    </tr>\n",
       "    <tr>\n",
       "      <th>50%</th>\n",
       "      <td>4.155597e+02</td>\n",
       "      <td>3.419332e+00</td>\n",
       "      <td>5.405897e-01</td>\n",
       "      <td>1.119042e+02</td>\n",
       "      <td>-5.158766e+00</td>\n",
       "      <td>1.866297e+00</td>\n",
       "      <td>-3.280963e+00</td>\n",
       "      <td>2.306707e+01</td>\n",
       "    </tr>\n",
       "    <tr>\n",
       "      <th>75%</th>\n",
       "      <td>4.566924e+02</td>\n",
       "      <td>5.607110e+00</td>\n",
       "      <td>7.499653e-01</td>\n",
       "      <td>1.627444e+02</td>\n",
       "      <td>-4.966306e+00</td>\n",
       "      <td>2.161109e+00</td>\n",
       "      <td>-3.006803e+00</td>\n",
       "      <td>2.535028e+01</td>\n",
       "    </tr>\n",
       "    <tr>\n",
       "      <th>max</th>\n",
       "      <td>6.863590e+02</td>\n",
       "      <td>1.113013e+01</td>\n",
       "      <td>2.178957e+00</td>\n",
       "      <td>3.970383e+02</td>\n",
       "      <td>-3.632374e+00</td>\n",
       "      <td>3.803964e+00</td>\n",
       "      <td>-1.148421e+00</td>\n",
       "      <td>3.809871e+01</td>\n",
       "    </tr>\n",
       "  </tbody>\n",
       "</table>\n",
       "</div>"
      ],
      "text/plain": [
       "               mass           pce           voc           jsc  e_homo_alpha  \\\n",
       "count  2.322849e+06  2.322849e+06  2.322849e+06  2.322849e+06  2.322849e+06   \n",
       "mean   4.155640e+02  3.924612e+00  5.520989e-01  1.204695e+02 -5.173904e+00   \n",
       "std    5.985317e+01  2.507639e+00  3.037830e-01  6.676970e+01  3.028554e-01   \n",
       "min    1.682378e+02  0.000000e+00  0.000000e+00  0.000000e+00 -7.512315e+00   \n",
       "25%    3.784536e+02  2.058252e+00  3.428861e-01  6.967192e+01 -5.367790e+00   \n",
       "50%    4.155597e+02  3.419332e+00  5.405897e-01  1.119042e+02 -5.158766e+00   \n",
       "75%    4.566924e+02  5.607110e+00  7.499653e-01  1.627444e+02 -4.966306e+00   \n",
       "max    6.863590e+02  1.113013e+01  2.178957e+00  3.970383e+02 -3.632374e+00   \n",
       "\n",
       "        e_gap_alpha  e_lumo_alpha  mass_ratio_H20  \n",
       "count  2.322849e+06  2.322849e+06    2.322849e+06  \n",
       "mean   1.881213e+00 -3.292690e+00    2.306731e+01  \n",
       "std    4.002805e-01  3.902608e-01    3.322356e+00  \n",
       "min   -2.939619e-03 -6.086537e+00    9.338617e+00  \n",
       "25%    1.588780e+00 -3.587081e+00    2.100737e+01  \n",
       "50%    1.866297e+00 -3.280963e+00    2.306707e+01  \n",
       "75%    2.161109e+00 -3.006803e+00    2.535028e+01  \n",
       "max    3.803964e+00 -1.148421e+00    3.809871e+01  "
      ]
     },
     "execution_count": 54,
     "metadata": {},
     "output_type": "execute_result"
    }
   ],
   "source": [
    "data.describe()"
   ]
  },
  {
   "cell_type": "code",
   "execution_count": 55,
   "metadata": {},
   "outputs": [
    {
     "data": {
      "text/html": [
       "<div>\n",
       "<style scoped>\n",
       "    .dataframe tbody tr th:only-of-type {\n",
       "        vertical-align: middle;\n",
       "    }\n",
       "\n",
       "    .dataframe tbody tr th {\n",
       "        vertical-align: top;\n",
       "    }\n",
       "\n",
       "    .dataframe thead th {\n",
       "        text-align: right;\n",
       "    }\n",
       "</style>\n",
       "<table border=\"1\" class=\"dataframe\">\n",
       "  <thead>\n",
       "    <tr style=\"text-align: right;\">\n",
       "      <th></th>\n",
       "      <th>count</th>\n",
       "      <th>mean</th>\n",
       "      <th>std</th>\n",
       "      <th>min</th>\n",
       "      <th>25%</th>\n",
       "      <th>50%</th>\n",
       "      <th>75%</th>\n",
       "      <th>max</th>\n",
       "    </tr>\n",
       "    <tr>\n",
       "      <th>mass_group</th>\n",
       "      <th></th>\n",
       "      <th></th>\n",
       "      <th></th>\n",
       "      <th></th>\n",
       "      <th></th>\n",
       "      <th></th>\n",
       "      <th></th>\n",
       "      <th></th>\n",
       "    </tr>\n",
       "  </thead>\n",
       "  <tbody>\n",
       "    <tr>\n",
       "      <th>(167.72, 220.05]</th>\n",
       "      <td>937.0</td>\n",
       "      <td>0.984688</td>\n",
       "      <td>0.873994</td>\n",
       "      <td>0.0</td>\n",
       "      <td>0.413301</td>\n",
       "      <td>0.786599</td>\n",
       "      <td>1.325538</td>\n",
       "      <td>5.746969</td>\n",
       "    </tr>\n",
       "    <tr>\n",
       "      <th>(220.05, 271.862]</th>\n",
       "      <td>21253.0</td>\n",
       "      <td>1.658181</td>\n",
       "      <td>1.342245</td>\n",
       "      <td>0.0</td>\n",
       "      <td>0.735355</td>\n",
       "      <td>1.331621</td>\n",
       "      <td>2.252834</td>\n",
       "      <td>10.956561</td>\n",
       "    </tr>\n",
       "    <tr>\n",
       "      <th>(271.862, 323.674]</th>\n",
       "      <td>132159.0</td>\n",
       "      <td>2.372569</td>\n",
       "      <td>1.727534</td>\n",
       "      <td>0.0</td>\n",
       "      <td>1.173593</td>\n",
       "      <td>1.984474</td>\n",
       "      <td>3.182373</td>\n",
       "      <td>11.062819</td>\n",
       "    </tr>\n",
       "    <tr>\n",
       "      <th>(323.674, 375.486]</th>\n",
       "      <td>395811.0</td>\n",
       "      <td>3.210127</td>\n",
       "      <td>2.155961</td>\n",
       "      <td>0.0</td>\n",
       "      <td>1.685650</td>\n",
       "      <td>2.728819</td>\n",
       "      <td>4.383033</td>\n",
       "      <td>11.116338</td>\n",
       "    </tr>\n",
       "    <tr>\n",
       "      <th>(375.486, 427.298]</th>\n",
       "      <td>749908.0</td>\n",
       "      <td>3.918477</td>\n",
       "      <td>2.415250</td>\n",
       "      <td>0.0</td>\n",
       "      <td>2.133770</td>\n",
       "      <td>3.439810</td>\n",
       "      <td>5.508474</td>\n",
       "      <td>11.130131</td>\n",
       "    </tr>\n",
       "    <tr>\n",
       "      <th>(427.298, 479.111]</th>\n",
       "      <td>729369.0</td>\n",
       "      <td>4.441766</td>\n",
       "      <td>2.563312</td>\n",
       "      <td>0.0</td>\n",
       "      <td>2.506528</td>\n",
       "      <td>4.077387</td>\n",
       "      <td>6.232374</td>\n",
       "      <td>11.125494</td>\n",
       "    </tr>\n",
       "    <tr>\n",
       "      <th>(479.111, 530.923]</th>\n",
       "      <td>247833.0</td>\n",
       "      <td>4.480230</td>\n",
       "      <td>2.729844</td>\n",
       "      <td>0.0</td>\n",
       "      <td>2.485322</td>\n",
       "      <td>4.070540</td>\n",
       "      <td>6.461316</td>\n",
       "      <td>11.118864</td>\n",
       "    </tr>\n",
       "    <tr>\n",
       "      <th>(530.923, 582.735]</th>\n",
       "      <td>41111.0</td>\n",
       "      <td>4.535071</td>\n",
       "      <td>2.936067</td>\n",
       "      <td>0.0</td>\n",
       "      <td>2.501887</td>\n",
       "      <td>4.038260</td>\n",
       "      <td>6.801271</td>\n",
       "      <td>11.112351</td>\n",
       "    </tr>\n",
       "    <tr>\n",
       "      <th>(582.735, 634.547]</th>\n",
       "      <td>4176.0</td>\n",
       "      <td>4.694802</td>\n",
       "      <td>2.948578</td>\n",
       "      <td>0.0</td>\n",
       "      <td>3.017875</td>\n",
       "      <td>4.043051</td>\n",
       "      <td>7.011431</td>\n",
       "      <td>11.020831</td>\n",
       "    </tr>\n",
       "    <tr>\n",
       "      <th>(634.547, 686.359]</th>\n",
       "      <td>292.0</td>\n",
       "      <td>4.716907</td>\n",
       "      <td>2.454961</td>\n",
       "      <td>0.0</td>\n",
       "      <td>3.345544</td>\n",
       "      <td>3.878462</td>\n",
       "      <td>6.152368</td>\n",
       "      <td>10.858928</td>\n",
       "    </tr>\n",
       "  </tbody>\n",
       "</table>\n",
       "</div>"
      ],
      "text/plain": [
       "                       count      mean       std  min       25%       50%  \\\n",
       "mass_group                                                                  \n",
       "(167.72, 220.05]       937.0  0.984688  0.873994  0.0  0.413301  0.786599   \n",
       "(220.05, 271.862]    21253.0  1.658181  1.342245  0.0  0.735355  1.331621   \n",
       "(271.862, 323.674]  132159.0  2.372569  1.727534  0.0  1.173593  1.984474   \n",
       "(323.674, 375.486]  395811.0  3.210127  2.155961  0.0  1.685650  2.728819   \n",
       "(375.486, 427.298]  749908.0  3.918477  2.415250  0.0  2.133770  3.439810   \n",
       "(427.298, 479.111]  729369.0  4.441766  2.563312  0.0  2.506528  4.077387   \n",
       "(479.111, 530.923]  247833.0  4.480230  2.729844  0.0  2.485322  4.070540   \n",
       "(530.923, 582.735]   41111.0  4.535071  2.936067  0.0  2.501887  4.038260   \n",
       "(582.735, 634.547]    4176.0  4.694802  2.948578  0.0  3.017875  4.043051   \n",
       "(634.547, 686.359]     292.0  4.716907  2.454961  0.0  3.345544  3.878462   \n",
       "\n",
       "                         75%        max  \n",
       "mass_group                               \n",
       "(167.72, 220.05]    1.325538   5.746969  \n",
       "(220.05, 271.862]   2.252834  10.956561  \n",
       "(271.862, 323.674]  3.182373  11.062819  \n",
       "(323.674, 375.486]  4.383033  11.116338  \n",
       "(375.486, 427.298]  5.508474  11.130131  \n",
       "(427.298, 479.111]  6.232374  11.125494  \n",
       "(479.111, 530.923]  6.461316  11.118864  \n",
       "(530.923, 582.735]  6.801271  11.112351  \n",
       "(582.735, 634.547]  7.011431  11.020831  \n",
       "(634.547, 686.359]  6.152368  10.858928  "
      ]
     },
     "execution_count": 55,
     "metadata": {},
     "output_type": "execute_result"
    }
   ],
   "source": [
    "data.groupby(['mass_group'])['pce'].describe()"
   ]
  },
  {
   "cell_type": "code",
   "execution_count": 59,
   "metadata": {},
   "outputs": [
    {
     "data": {
      "text/plain": [
       "mass_group          pce      \n",
       "(167.72, 220.05]    0.000000     2.412702\n",
       "                    0.000245     2.099989\n",
       "                    0.004285     2.953079\n",
       "                    0.005825     3.073889\n",
       "                    0.008490     2.722965\n",
       "                    0.008899     2.136513\n",
       "                    0.044463     2.452195\n",
       "                    0.046568     2.823902\n",
       "                    0.046691     3.114940\n",
       "                    0.048831     3.140034\n",
       "                    0.052351     2.884674\n",
       "                    0.055327     2.728120\n",
       "                    0.059029     2.880716\n",
       "                    0.061336     2.844688\n",
       "                    0.072549     3.090869\n",
       "                    0.079122     3.159215\n",
       "                    0.080511     3.364599\n",
       "                    0.083184     2.854799\n",
       "                    0.084001     1.942450\n",
       "                    0.084225     1.974778\n",
       "                    0.094322     3.709872\n",
       "                    0.101431     2.850968\n",
       "                    0.104110     2.307507\n",
       "                    0.111652     2.742858\n",
       "                    0.113507     2.809079\n",
       "                    0.114355     2.319816\n",
       "                    0.115878     3.608025\n",
       "                    0.125624     3.028626\n",
       "                    0.125981     3.340156\n",
       "                    0.130970     2.554368\n",
       "                                   ...   \n",
       "(634.547, 686.359]  9.066947     1.175464\n",
       "                    9.185450     1.100996\n",
       "                    9.186357     1.548446\n",
       "                    9.270504     1.145993\n",
       "                    9.347098     1.198710\n",
       "                    9.349263     1.196206\n",
       "                    9.360067     1.220964\n",
       "                    9.362396     1.204888\n",
       "                    9.364733     1.219149\n",
       "                    9.391619     1.135501\n",
       "                    9.413005     1.183518\n",
       "                    9.424252     1.155483\n",
       "                    9.463312     1.222076\n",
       "                    9.534784     1.135481\n",
       "                    9.548010     1.142618\n",
       "                    9.571270     1.134874\n",
       "                    9.598884     1.122950\n",
       "                    9.603046     1.179339\n",
       "                    9.661744     1.177666\n",
       "                    9.710178     1.178226\n",
       "                    9.715666     1.161244\n",
       "                    9.761812     1.191025\n",
       "                    9.807911     1.188336\n",
       "                    9.814294     1.170697\n",
       "                    10.012045    1.195555\n",
       "                    10.036598    1.461847\n",
       "                    10.401586    1.409304\n",
       "                    10.430989    1.436652\n",
       "                    10.698090    1.393320\n",
       "                    10.858928    1.352444\n",
       "Name: e_gap_alpha, Length: 2194344, dtype: float64"
      ]
     },
     "execution_count": 59,
     "metadata": {},
     "output_type": "execute_result"
    }
   ],
   "source": [
    "grouped = data.groupby(['mass_group', 'pce'])['e_gap_alpha'].mean()\n",
    "grouped"
   ]
  },
  {
   "cell_type": "markdown",
   "metadata": {},
   "source": [
    "Now, let's find the mean of each of the columns for each ``mass_group``.  *Notice* what happens to the non-numeric columns."
   ]
  },
  {
   "cell_type": "code",
   "execution_count": null,
   "metadata": {},
   "outputs": [],
   "source": []
  },
  {
   "cell_type": "markdown",
   "metadata": {},
   "source": [
    "You can specify a groupby using the names of table columns and compute other functions, such as the ``sum``, ``count``, ``std``, and ``describe``."
   ]
  },
  {
   "cell_type": "code",
   "execution_count": null,
   "metadata": {},
   "outputs": [],
   "source": []
  },
  {
   "cell_type": "markdown",
   "metadata": {},
   "source": [
    "The simplest version of a groupby looks like this, and you can use almost any aggregation function you wish (mean, median, sum, minimum, maximum, standard deviation, count, etc.)\n",
    "\n",
    "```\n",
    "<data object>.groupby(<grouping values>).<aggregate>()\n",
    "```\n",
    "\n",
    "You can even group by multiple values: for example we can look at the LUMO-HOMO gap grouped by the ``mass_group`` and ``pce``."
   ]
  },
  {
   "cell_type": "code",
   "execution_count": null,
   "metadata": {},
   "outputs": [],
   "source": []
  },
  {
   "cell_type": "markdown",
   "metadata": {},
   "source": [
    "## 5. Visualizing data with ``pandas``\n",
    "\n",
    "Of course, looking at tables of data is not very intuitive.\n",
    "Fortunately Pandas has many useful plotting functions built-in, all of which make use of the ``matplotlib`` library to generate plots.\n",
    "\n",
    "Whenever you do plotting in the Jupyter notebook, you will want to first run this *magic command* which configures the notebook to work well with plots:"
   ]
  },
  {
   "cell_type": "code",
   "execution_count": 61,
   "metadata": {},
   "outputs": [],
   "source": [
    "import matplotlib\n",
    "%matplotlib inline"
   ]
  },
  {
   "cell_type": "markdown",
   "metadata": {},
   "source": [
    "Now we can simply call the ``plot()`` method of any series or dataframe to get a reasonable view of the data:"
   ]
  },
  {
   "cell_type": "code",
   "execution_count": 62,
   "metadata": {},
   "outputs": [
    {
     "data": {
      "text/plain": [
       "<matplotlib.axes._subplots.AxesSubplot at 0x126682fd0>"
      ]
     },
     "execution_count": 62,
     "metadata": {},
     "output_type": "execute_result"
    },
    {
     "data": {
      "image/png": "[encoded data removed]",
      "text/plain": [
       "<Figure size 432x288 with 1 Axes>"
      ]
     },
     "metadata": {
      "needs_background": "light"
     },
     "output_type": "display_data"
    }
   ],
   "source": [
    "data.groupby(['mass_group'])['pce'].mean().plot()"
   ]
  },
  {
   "cell_type": "markdown",
   "metadata": {},
   "source": [
    "### Other plot types\n",
    "\n",
    "Pandas supports a range of other plotting types; you can find these by using the <TAB> autocomplete on the ``plot`` method:"
   ]
  },
  {
   "cell_type": "code",
   "execution_count": 66,
   "metadata": {},
   "outputs": [
    {
     "data": {
      "text/plain": [
       "(array([0., 0., 0., 0., 0., 1., 0., 0., 0., 0.]),\n",
       " array([ 9.5,  9.6,  9.7,  9.8,  9.9, 10. , 10.1, 10.2, 10.3, 10.4, 10.5]),\n",
       " <a list of 10 Patch objects>)"
      ]
     },
     "execution_count": 66,
     "metadata": {},
     "output_type": "execute_result"
    },
    {
     "data": {
      "image/png": "[encoded data removed]",
      "text/plain": [
       "<Figure size 432x288 with 1 Axes>"
      ]
     },
     "metadata": {
      "needs_background": "light"
     },
     "output_type": "display_data"
    }
   ],
   "source": [
    "data.groupby(['mass_group']).count().plot().hist(10)"
   ]
  },
  {
   "cell_type": "code",
   "execution_count": null,
   "metadata": {},
   "outputs": [],
   "source": []
  }
 ],
 "metadata": {
  "anaconda-cloud": {},
  "kernelspec": {
   "display_name": "Python 3",
   "language": "python",
   "name": "python3"
  },
  "language_info": {
   "codemirror_mode": {
    "name": "ipython",
    "version": 3
   },
   "file_extension": ".py",
   "mimetype": "text/x-python",
   "name": "python",
   "nbconvert_exporter": "python",
   "pygments_lexer": "ipython3",
   "version": "3.7.3"
  }
 },
 "nbformat": 4,
 "nbformat_minor": 1
}
